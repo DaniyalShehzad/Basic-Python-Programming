{
 "cells": [
  {
   "cell_type": "markdown",
   "metadata": {},
   "source": [
    "print hello"
   ]
  },
  {
   "cell_type": "code",
   "execution_count": 1,
   "metadata": {},
   "outputs": [
    {
     "name": "stdout",
     "output_type": "stream",
     "text": [
      "12\n"
     ]
    }
   ],
   "source": [
    "x=5\n",
    "y=7\n",
    "z=x+y\n",
    "print(z)"
   ]
  },
  {
   "cell_type": "code",
   "execution_count": null,
   "metadata": {},
   "outputs": [],
   "source": [
    "x=\"5\"\n",
    "y=\"7\"\n",
    "z=x+y\n",
    "print(z)"
   ]
  },
  {
   "cell_type": "code",
   "execution_count": 2,
   "metadata": {},
   "outputs": [
    {
     "name": "stdout",
     "output_type": "stream",
     "text": [
      "WRITE YOUR NAMEDANIYAL\n"
     ]
    },
    {
     "ename": "NameError",
     "evalue": "name 'A' is not defined",
     "output_type": "error",
     "traceback": [
      "\u001b[1;31m---------------------------------------------------------------------------\u001b[0m",
      "\u001b[1;31mNameError\u001b[0m                                 Traceback (most recent call last)",
      "\u001b[1;32m<ipython-input-2-59789d2ea861>\u001b[0m in \u001b[0;36m<module>\u001b[1;34m\u001b[0m\n\u001b[0;32m      1\u001b[0m \u001b[0ma\u001b[0m \u001b[1;33m=\u001b[0m \u001b[0minput\u001b[0m\u001b[1;33m(\u001b[0m\u001b[1;34m\"WRITE YOUR NAME\"\u001b[0m\u001b[1;33m)\u001b[0m\u001b[1;33m\u001b[0m\u001b[1;33m\u001b[0m\u001b[0m\n\u001b[1;32m----> 2\u001b[1;33m \u001b[0mprint\u001b[0m\u001b[1;33m(\u001b[0m\u001b[0mA\u001b[0m\u001b[1;33m)\u001b[0m\u001b[1;33m\u001b[0m\u001b[1;33m\u001b[0m\u001b[0m\n\u001b[0m",
      "\u001b[1;31mNameError\u001b[0m: name 'A' is not defined"
     ]
    }
   ],
   "source": [
    "a = input(\"WRITE YOUR NAME\")\n",
    "print(A)"
   ]
  },
  {
   "cell_type": "code",
   "execution_count": 3,
   "metadata": {},
   "outputs": [
    {
     "name": "stdout",
     "output_type": "stream",
     "text": [
      "WRITE YOUR NAMEDaniyal\n",
      "Daniyal\n"
     ]
    }
   ],
   "source": [
    "a = input(\"WRITE YOUR NAME\")\n",
    "print(a)"
   ]
  },
  {
   "cell_type": "code",
   "execution_count": 4,
   "metadata": {},
   "outputs": [
    {
     "name": "stdout",
     "output_type": "stream",
     "text": [
      "write the first number2\n",
      "write the second number3\n",
      "23\n"
     ]
    }
   ],
   "source": [
    "x = input(\"write the first number\")\n",
    "y = input(\"write the second number\")\n",
    "z= x+y\n",
    "print(z)"
   ]
  },
  {
   "cell_type": "code",
   "execution_count": 5,
   "metadata": {},
   "outputs": [
    {
     "name": "stdout",
     "output_type": "stream",
     "text": [
      "write the first number2\n",
      "write the second number2\n",
      "22\n"
     ]
    }
   ],
   "source": [
    "x= int(x)\n",
    "y= int(y)\n",
    "x = input(\"write the first number\")\n",
    "y = input(\"write the second number\")\n",
    "z= x+y\n",
    "print(z)"
   ]
  },
  {
   "cell_type": "code",
   "execution_count": 2,
   "metadata": {},
   "outputs": [
    {
     "name": "stdout",
     "output_type": "stream",
     "text": [
      "write the first number4\n",
      "write the second number5\n",
      "9\n"
     ]
    }
   ],
   "source": [
    "x = input(\"write the first number\")\n",
    "y = input(\"write the second number\")\n",
    "x= int(x)\n",
    "y= int(y)\n",
    "z= x+y\n",
    "print(z)"
   ]
  },
  {
   "cell_type": "raw",
   "metadata": {},
   "source": [
    "a = int(input(\"write 1st number\"))\n",
    "b = int(input(\"write 2nd number\"))\n",
    "a+b"
   ]
  },
  {
   "cell_type": "code",
   "execution_count": 10,
   "metadata": {},
   "outputs": [
    {
     "name": "stdout",
     "output_type": "stream",
     "text": [
      "3.0\n"
     ]
    }
   ],
   "source": [
    "remainder = 13.5%3.5\n",
    "print (remainder)"
   ]
  },
  {
   "cell_type": "code",
   "execution_count": 11,
   "metadata": {},
   "outputs": [
    {
     "name": "stdout",
     "output_type": "stream",
     "text": [
      "6\n"
     ]
    }
   ],
   "source": [
    "age = 5\n",
    "age= age + 1\n",
    "print(age)"
   ]
  },
  {
   "cell_type": "code",
   "execution_count": 12,
   "metadata": {},
   "outputs": [
    {
     "name": "stdout",
     "output_type": "stream",
     "text": [
      "6\n"
     ]
    }
   ],
   "source": [
    "age=5\n",
    "age +=1\n",
    "print(age)"
   ]
  },
  {
   "cell_type": "code",
   "execution_count": 14,
   "metadata": {},
   "outputs": [
    {
     "name": "stdout",
     "output_type": "stream",
     "text": [
      "16\n"
     ]
    }
   ],
   "source": [
    "total_cost = 1+3*5\n",
    "print(total_cost)"
   ]
  },
  {
   "cell_type": "code",
   "execution_count": 17,
   "metadata": {},
   "outputs": [
    {
     "name": "stdout",
     "output_type": "stream",
     "text": [
      "the sum of 2 plus 2 is 4\n"
     ]
    }
   ],
   "source": [
    "print (\"the sum of 2 plus 2 is \" + str(4))"
   ]
  },
  {
   "cell_type": "code",
   "execution_count": 18,
   "metadata": {},
   "outputs": [
    {
     "name": "stdout",
     "output_type": "stream",
     "text": [
      "the sum of 2 plus 2 is  4\n"
     ]
    }
   ],
   "source": [
    "print (\"the sum of 2 plus 2 is \" ,4)"
   ]
  },
  {
   "cell_type": "code",
   "execution_count": 8,
   "metadata": {},
   "outputs": [
    {
     "name": "stdout",
     "output_type": "stream",
     "text": [
      "3\n",
      "number is less than 5\n"
     ]
    }
   ],
   "source": [
    "number = int (input())\n",
    "\n",
    "\n",
    "if number >= 5:\n",
    "    print(\"number if greater than or equal to 5\")\n",
    "else:\n",
    "    print(\"number is less than 5\")"
   ]
  },
  {
   "cell_type": "code",
   "execution_count": 15,
   "metadata": {},
   "outputs": [
    {
     "name": "stdout",
     "output_type": "stream",
     "text": [
      "input number 5\n",
      "number is 5\n"
     ]
    }
   ],
   "source": [
    "number = int ( input (\"input number \"))\n",
    "\n",
    "\n",
    "if number != 5:\n",
    "    print(\"number is not equal to 5\")\n",
    "else:\n",
    "    print(\"number is 5\")"
   ]
  },
  {
   "cell_type": "code",
   "execution_count": 2,
   "metadata": {},
   "outputs": [
    {
     "name": "stdout",
     "output_type": "stream",
     "text": [
      "Hello \n",
      " world\n"
     ]
    }
   ],
   "source": [
    "print (\"Hello \\n world\")"
   ]
  },
  {
   "cell_type": "code",
   "execution_count": 3,
   "metadata": {},
   "outputs": [
    {
     "name": "stdout",
     "output_type": "stream",
     "text": [
      "Hello \t world\n"
     ]
    }
   ],
   "source": [
    "print (\"Hello \\t world\")"
   ]
  },
  {
   "cell_type": "code",
   "execution_count": 4,
   "metadata": {},
   "outputs": [
    {
     "data": {
      "text/plain": [
       "int"
      ]
     },
     "execution_count": 4,
     "metadata": {},
     "output_type": "execute_result"
    }
   ],
   "source": [
    "A = 2\n",
    "type (A)"
   ]
  },
  {
   "cell_type": "code",
   "execution_count": 5,
   "metadata": {},
   "outputs": [
    {
     "name": "stdout",
     "output_type": "stream",
     "text": [
      "4\n"
     ]
    }
   ],
   "source": [
    "A = 2+2\n",
    "print(A)"
   ]
  },
  {
   "cell_type": "code",
   "execution_count": 6,
   "metadata": {},
   "outputs": [
    {
     "name": "stdout",
     "output_type": "stream",
     "text": [
      "5\n"
     ]
    }
   ],
   "source": [
    "A= 2\n",
    "B = 3\n",
    "print(A+B)"
   ]
  },
  {
   "cell_type": "code",
   "execution_count": 7,
   "metadata": {},
   "outputs": [
    {
     "name": "stdout",
     "output_type": "stream",
     "text": [
      "-1\n"
     ]
    }
   ],
   "source": [
    "print(A-B)"
   ]
  },
  {
   "cell_type": "code",
   "execution_count": 15,
   "metadata": {},
   "outputs": [
    {
     "name": "stdout",
     "output_type": "stream",
     "text": [
      "3\n"
     ]
    }
   ],
   "source": [
    "A = 7\n",
    "B = 2\n",
    "X = A//B\n",
    "print(X)"
   ]
  },
  {
   "cell_type": "markdown",
   "metadata": {},
   "source": []
  },
  {
   "cell_type": "code",
   "execution_count": 16,
   "metadata": {},
   "outputs": [
    {
     "data": {
      "text/plain": [
       "1"
      ]
     },
     "execution_count": 16,
     "metadata": {},
     "output_type": "execute_result"
    }
   ],
   "source": [
    "10%3"
   ]
  },
  {
   "cell_type": "code",
   "execution_count": 18,
   "metadata": {},
   "outputs": [
    {
     "name": "stdout",
     "output_type": "stream",
     "text": [
      "21\n"
     ]
    }
   ],
   "source": [
    "age = 20\n",
    "age +=1\n",
    "print(age)\n",
    "#age = age+1"
   ]
  },
  {
   "cell_type": "code",
   "execution_count": 21,
   "metadata": {},
   "outputs": [
    {
     "name": "stdout",
     "output_type": "stream",
     "text": [
      "10.0\n"
     ]
    }
   ],
   "source": [
    "age = 20\n",
    "age /=2\n",
    "print(age)"
   ]
  },
  {
   "cell_type": "code",
   "execution_count": 22,
   "metadata": {},
   "outputs": [
    {
     "name": "stdout",
     "output_type": "stream",
     "text": [
      "7\n"
     ]
    }
   ],
   "source": [
    "A = 2\n",
    "B = 5\n",
    "print (\"The output is of A+B is\" , A+B)"
   ]
  },
  {
   "cell_type": "code",
   "execution_count": 25,
   "metadata": {},
   "outputs": [
    {
     "name": "stdout",
     "output_type": "stream",
     "text": [
      "write the 1st number = A 3\n",
      "write 2nd number = B 3\n",
      "The output is of A+B is = 6\n"
     ]
    }
   ],
   "source": [
    "A = int(input(\"write the 1st number = A \"))\n",
    "B = int(input (\"write 2nd number = B \"))\n",
    "print (\"The output is of A+B is =\" , A+B)"
   ]
  },
  {
   "cell_type": "code",
   "execution_count": 1,
   "metadata": {},
   "outputs": [
    {
     "name": "stdout",
     "output_type": "stream",
     "text": [
      "write 1st number 'A' = 5\n",
      "write 2nd number 'B' = 5\n",
      "write 3rd number 'C' = 5\n",
      "(-5.000000000000001-21.65063509461097j)\n"
     ]
    }
   ],
   "source": [
    "#applying quadratic formula\n",
    "A = int(input (\"write 1st number 'A' = \"))\n",
    "B = int(input (\"write 2nd number 'B' = \"))\n",
    "C = int(input (\"write 3rd number 'C' = \"))\n",
    "\n",
    "X = -B +-(((B**2 -4*A*C))**0.5)/2*A\n",
    "    \n",
    "print(X)"
   ]
  },
  {
   "cell_type": "code",
   "execution_count": 4,
   "metadata": {},
   "outputs": [
    {
     "data": {
      "text/plain": [
       "7"
      ]
     },
     "execution_count": 4,
     "metadata": {},
     "output_type": "execute_result"
    }
   ],
   "source": [
    "A = \"Daniyal\"\n",
    "len(A)"
   ]
  },
  {
   "cell_type": "code",
   "execution_count": 7,
   "metadata": {},
   "outputs": [
    {
     "name": "stdout",
     "output_type": "stream",
     "text": [
      "Yes\n"
     ]
    }
   ],
   "source": [
    "A = \"cat\"\n",
    "if A ==\"cat\":\n",
    "    print(\"Yes\")\n",
    "else:\n",
    "    print(\"No\")"
   ]
  },
  {
   "cell_type": "code",
   "execution_count": 12,
   "metadata": {},
   "outputs": [
    {
     "name": "stdout",
     "output_type": "stream",
     "text": [
      "entre number-3\n",
      "negative\n"
     ]
    }
   ],
   "source": [
    "#for equal to 0\n",
    "num = int(input(\"entre number\"))\n",
    "if num == 0:\n",
    "    print(\"It's Zero\")\n",
    "elif num<0:\n",
    "    print(\"negative\")\n",
    "#Only last box has else "
   ]
  },
  {
   "cell_type": "code",
   "execution_count": 2,
   "metadata": {},
   "outputs": [
    {
     "name": "stdout",
     "output_type": "stream",
     "text": [
      "entre 1st number4\n",
      "entre 2nd number5\n",
      "entre 3rd number2\n",
      "2nd is the greatest number\n"
     ]
    }
   ],
   "source": [
    "A = int(input(\"entre 1st number\"))\n",
    "B = int(input(\"entre 2nd number\"))\n",
    "C = int(input(\"entre 3rd number\"))\n",
    "if A > B and C:\n",
    "    print(\"1st is the greatest number\")\n",
    "elif B > A and C:\n",
    "    print(\"2nd is the greatest number\")\n",
    "else:\n",
    "    print(\"3rd is the greatest number\")"
   ]
  },
  {
   "cell_type": "code",
   "execution_count": 6,
   "metadata": {},
   "outputs": [],
   "source": [
    "# This is a multiline comment"
   ]
  },
  {
   "cell_type": "code",
   "execution_count": 2,
   "metadata": {},
   "outputs": [
    {
     "data": {
      "text/plain": [
       "' djfkann '"
      ]
     },
     "execution_count": 2,
     "metadata": {},
     "output_type": "execute_result"
    }
   ],
   "source": [
    "\"\"\" djfkann \"\"\""
   ]
  },
  {
   "cell_type": "code",
   "execution_count": 14,
   "metadata": {},
   "outputs": [
    {
     "name": "stdout",
     "output_type": "stream",
     "text": [
      "Karachi\n",
      "Quetta\n",
      "Peshawar\n"
     ]
    }
   ],
   "source": [
    "#This is listing funtion\n",
    "\n",
    "cities = [\"Karachi\", \"Quetta\", \"Peshawar\"]\n",
    "print(cities[0])\n",
    "print(cities[1])\n",
    "print(cities[2])"
   ]
  },
  {
   "cell_type": "code",
   "execution_count": 15,
   "metadata": {},
   "outputs": [],
   "source": [
    "#appending option\n",
    "cities.append('Pakistan')"
   ]
  },
  {
   "cell_type": "code",
   "execution_count": 16,
   "metadata": {},
   "outputs": [
    {
     "name": "stdout",
     "output_type": "stream",
     "text": [
      "['Karachi', 'Quetta', 'Peshawar', 'Pakistan']\n"
     ]
    }
   ],
   "source": [
    "print(cities)"
   ]
  },
  {
   "cell_type": "code",
   "execution_count": 17,
   "metadata": {},
   "outputs": [],
   "source": [
    "cities.insert(0,\"Lahore\")"
   ]
  },
  {
   "cell_type": "code",
   "execution_count": 18,
   "metadata": {},
   "outputs": [
    {
     "name": "stdout",
     "output_type": "stream",
     "text": [
      "['Lahore', 'Karachi', 'Quetta', 'Peshawar', 'Pakistan']\n"
     ]
    }
   ],
   "source": [
    "print(cities)"
   ]
  },
  {
   "cell_type": "code",
   "execution_count": 19,
   "metadata": {},
   "outputs": [],
   "source": [
    "#multiple data types can be in list\n",
    "\n",
    "mixture = [\"Karachi\", \"Quetta\", \"Peshawar\", 132, 55.3434]"
   ]
  },
  {
   "cell_type": "code",
   "execution_count": 20,
   "metadata": {},
   "outputs": [
    {
     "name": "stdout",
     "output_type": "stream",
     "text": [
      "['Karachi', 'Quetta', 'Peshawar', 132, 55.3434]\n"
     ]
    }
   ],
   "source": [
    "print(mixture)"
   ]
  },
  {
   "cell_type": "code",
   "execution_count": 21,
   "metadata": {},
   "outputs": [],
   "source": [
    "mixture = mixture + [\"karachi\", \"multan\"]"
   ]
  },
  {
   "cell_type": "code",
   "execution_count": 22,
   "metadata": {},
   "outputs": [
    {
     "name": "stdout",
     "output_type": "stream",
     "text": [
      "['Karachi', 'Quetta', 'Peshawar', 132, 55.3434, 'karachi', 'multan']\n"
     ]
    }
   ],
   "source": [
    "print (mixture)"
   ]
  },
  {
   "cell_type": "code",
   "execution_count": 28,
   "metadata": {},
   "outputs": [
    {
     "data": {
      "text/plain": [
       "['Quetta', 'Peshawar', 132, 55.3434, 'karachi']"
      ]
     },
     "execution_count": 28,
     "metadata": {},
     "output_type": "execute_result"
    }
   ],
   "source": [
    "#This is slicing\n",
    "\n",
    "mixture[1:6]"
   ]
  },
  {
   "cell_type": "code",
   "execution_count": 1,
   "metadata": {},
   "outputs": [
    {
     "name": "stdout",
     "output_type": "stream",
     "text": [
      "Hello \n",
      " world\n"
     ]
    }
   ],
   "source": [
    "print (\"Hello \\n world\")"
   ]
  },
  {
   "cell_type": "code",
   "execution_count": 5,
   "metadata": {},
   "outputs": [
    {
     "name": "stdout",
     "output_type": "stream",
     "text": [
      "hello world\n"
     ]
    }
   ],
   "source": [
    "print(\"hello world\")"
   ]
  },
  {
   "cell_type": "code",
   "execution_count": 17,
   "metadata": {},
   "outputs": [
    {
     "name": "stdout",
     "output_type": "stream",
     "text": [
      "entre a number : 5\n",
      "input range = 5\n",
      "5 x 1 = 5\n",
      "5 x 2 = 10\n",
      "5 x 3 = 15\n",
      "5 x 4 = 20\n",
      "5 x 5 = 25\n"
     ]
    }
   ],
   "source": [
    "#making a table\n",
    "N = int(input(\"entre a number : \"))\n",
    "R = int(input(\"input range = \"))\n",
    "\n",
    "for x in range(1,R+1):\n",
    "    print (N, \"x\" ,x , \"=\",  N*x)"
   ]
  },
  {
   "cell_type": "code",
   "execution_count": 22,
   "metadata": {},
   "outputs": [
    {
     "name": "stdout",
     "output_type": "stream",
     "text": [
      "B  W  B  W  B  W  B  W  \n",
      "W  B  W  B  W  B  W  B  \n",
      "B  W  B  W  B  W  B  W  \n",
      "W  B  W  B  W  B  W  B  \n",
      "B  W  B  W  B  W  B  W  \n",
      "W  B  W  B  W  B  W  B  \n",
      "B  W  B  W  B  W  B  W  \n",
      "W  B  W  B  W  B  W  B  \n"
     ]
    }
   ],
   "source": [
    "#Making a checkers board\n",
    "#loop within loop\n",
    "# W B W B W B W B (8*8)\n",
    "\n",
    "for W in range(8):\n",
    "    for B in range(4):\n",
    "        if W%2==0:\n",
    "            print (\"B  W \", end = \" \")\n",
    "        else:\n",
    "            print(\"W  B \", end = \" \")\n",
    "            \n",
    "    print()\n"
   ]
  },
  {
   "cell_type": "code",
   "execution_count": 25,
   "metadata": {},
   "outputs": [
    {
     "name": "stdout",
     "output_type": "stream",
     "text": [
      " B   W   B   W   B   W   B   W  \n",
      " W   B   W   B   W   B   W   B  \n",
      " B   W   B   W   B   W   B   W  \n",
      " W   B   W   B   W   B   W   B  \n",
      " B   W   B   W   B   W   B   W  \n",
      " W   B   W   B   W   B   W   B  \n",
      " B   W   B   W   B   W   B   W  \n",
      " W   B   W   B   W   B   W   B  \n"
     ]
    }
   ],
   "source": [
    "#another method\n",
    "#By default end = \\n\n",
    "for i in range(0,8):\n",
    "    for j in range(0,8):\n",
    "        if (i+j)%2 == 0:\n",
    "            print(\" B  \", end=\"\" )\n",
    "        else:\n",
    "            print(\" W  \", end=\"\" )\n",
    "    print(\"\")"
   ]
  },
  {
   "cell_type": "code",
   "execution_count": 26,
   "metadata": {},
   "outputs": [
    {
     "name": "stdout",
     "output_type": "stream",
     "text": [
      " B  \n",
      " W  \n",
      " B  \n",
      " W  \n",
      " B  \n",
      " W  \n",
      " B  \n",
      " W  \n",
      "\n",
      " W  \n",
      " B  \n",
      " W  \n",
      " B  \n",
      " W  \n",
      " B  \n",
      " W  \n",
      " B  \n",
      "\n",
      " B  \n",
      " W  \n",
      " B  \n",
      " W  \n",
      " B  \n",
      " W  \n",
      " B  \n",
      " W  \n",
      "\n",
      " W  \n",
      " B  \n",
      " W  \n",
      " B  \n",
      " W  \n",
      " B  \n",
      " W  \n",
      " B  \n",
      "\n",
      " B  \n",
      " W  \n",
      " B  \n",
      " W  \n",
      " B  \n",
      " W  \n",
      " B  \n",
      " W  \n",
      "\n",
      " W  \n",
      " B  \n",
      " W  \n",
      " B  \n",
      " W  \n",
      " B  \n",
      " W  \n",
      " B  \n",
      "\n",
      " B  \n",
      " W  \n",
      " B  \n",
      " W  \n",
      " B  \n",
      " W  \n",
      " B  \n",
      " W  \n",
      "\n",
      " W  \n",
      " B  \n",
      " W  \n",
      " B  \n",
      " W  \n",
      " B  \n",
      " W  \n",
      " B  \n",
      "\n"
     ]
    }
   ],
   "source": [
    "#another method\n",
    "#By default end = \\n\n",
    "for i in range(0,8):\n",
    "    for j in range(0,8):\n",
    "        if (i+j)%2 == 0:\n",
    "            print(\" B  \")\n",
    "        else:\n",
    "            print(\" W  \")\n",
    "    print(\"\")"
   ]
  },
  {
   "cell_type": "code",
   "execution_count": 27,
   "metadata": {},
   "outputs": [
    {
     "data": {
      "text/plain": [
       "'red'"
      ]
     },
     "execution_count": 27,
     "metadata": {},
     "output_type": "execute_result"
    }
   ],
   "source": [
    "#26th may 2019\n",
    "#Tuples\n",
    "color = (\"red\",  \"green\", \"blue\")\n",
    "color [0]"
   ]
  },
  {
   "cell_type": "code",
   "execution_count": 28,
   "metadata": {},
   "outputs": [
    {
     "name": "stdout",
     "output_type": "stream",
     "text": [
      "('pink', 'yellow', 'blue')\n"
     ]
    }
   ],
   "source": [
    "#Tuple is replaced in the memory\n",
    "#color reference is replaced(discarded)\n",
    "color = (\"red\",  \"green\", \"blue\")\n",
    "color = (\"pink\",  \"yellow\", \"blue\")\n",
    "print(color)"
   ]
  },
  {
   "cell_type": "code",
   "execution_count": 31,
   "metadata": {},
   "outputs": [
    {
     "data": {
      "text/plain": [
       "'Hello World'"
      ]
     },
     "execution_count": 31,
     "metadata": {},
     "output_type": "execute_result"
    }
   ],
   "source": [
    "#lower function\n",
    "# here str1 is not being changed but only returned\n",
    "str1 = \"HELLO WORLD\"\n",
    "str1.lower()\n",
    "str1.title()"
   ]
  },
  {
   "cell_type": "code",
   "execution_count": 34,
   "metadata": {},
   "outputs": [
    {
     "name": "stdout",
     "output_type": "stream",
     "text": [
      "HELLO WORLD\n",
      "hello world\n",
      "Hello World\n"
     ]
    }
   ],
   "source": [
    "# here str1 is not being changed but only returned\n",
    "#you can save them in variable\n",
    "str1 = \"HELLO WORLD\"\n",
    "str2 = str1.lower()\n",
    "str3 = str1.title()\n",
    "print(str1)\n",
    "print(str2)\n",
    "print(str3)"
   ]
  },
  {
   "cell_type": "code",
   "execution_count": 35,
   "metadata": {},
   "outputs": [
    {
     "name": "stdout",
     "output_type": "stream",
     "text": [
      "entre sentence.. my name is\n"
     ]
    },
    {
     "data": {
      "text/plain": [
       "3"
      ]
     },
     "execution_count": 35,
     "metadata": {},
     "output_type": "execute_result"
    }
   ],
   "source": [
    "#To count the words of the input\n",
    "#This program counts the spaces\n",
    "\n",
    "word = input(\"entre sentence.. \")\n",
    "word.count(\" \")+1"
   ]
  },
  {
   "cell_type": "code",
   "execution_count": 3,
   "metadata": {},
   "outputs": [
    {
     "name": "stdout",
     "output_type": "stream",
     "text": [
      "input sentence daniyal\n"
     ]
    },
    {
     "data": {
      "text/plain": [
       "7"
      ]
     },
     "execution_count": 3,
     "metadata": {},
     "output_type": "execute_result"
    }
   ],
   "source": [
    "S = input(\"input sentence \")\n",
    "#to split the function\n",
    "S.split()\n",
    "#now getting its length\n",
    "len(S)"
   ]
  },
  {
   "cell_type": "code",
   "execution_count": 5,
   "metadata": {},
   "outputs": [
    {
     "data": {
      "text/plain": [
       "'Daniyal Shehzad'"
      ]
     },
     "execution_count": 5,
     "metadata": {},
     "output_type": "execute_result"
    }
   ],
   "source": [
    "#dictionaries function\n",
    "doctor = {\"name\" :\"Daniyal Shehzad\", \"qualification\":\"PHD\", \"salary\":\"30000\"}\n",
    "doctor[\"name\"]"
   ]
  },
  {
   "cell_type": "code",
   "execution_count": 6,
   "metadata": {},
   "outputs": [
    {
     "data": {
      "text/plain": [
       "dict_keys(['name', 'qualification', 'salary'])"
      ]
     },
     "execution_count": 6,
     "metadata": {},
     "output_type": "execute_result"
    }
   ],
   "source": [
    "doctor.keys()"
   ]
  },
  {
   "cell_type": "code",
   "execution_count": 7,
   "metadata": {},
   "outputs": [
    {
     "data": {
      "text/plain": [
       "dict_values(['Daniyal Shehzad', 'PHD', '30000'])"
      ]
     },
     "execution_count": 7,
     "metadata": {},
     "output_type": "execute_result"
    }
   ],
   "source": [
    "doctor.values()"
   ]
  },
  {
   "cell_type": "code",
   "execution_count": 8,
   "metadata": {},
   "outputs": [
    {
     "name": "stdout",
     "output_type": "stream",
     "text": [
      "Daniyal Shehzad\n",
      "PHD\n",
      "30000\n"
     ]
    }
   ],
   "source": [
    "#for loop\n",
    "for i in doctor.keys():\n",
    "    print(doctor[i])"
   ]
  },
  {
   "cell_type": "code",
   "execution_count": 13,
   "metadata": {},
   "outputs": [
    {
     "name": "stdout",
     "output_type": "stream",
     "text": [
      "name = Daniyal Shehzad\n",
      "qualification = PHD\n",
      "salary = 30000\n"
     ]
    }
   ],
   "source": [
    "#for values and keys\n",
    "for i in doctor.keys():\n",
    "    print(i,\"=\", doctor[i])  "
   ]
  },
  {
   "cell_type": "code",
   "execution_count": 21,
   "metadata": {
    "scrolled": true
   },
   "outputs": [
    {
     "data": {
      "text/plain": [
       "{'name': 'Daniyal Shehzad',\n",
       " 'qualification': 'PHD',\n",
       " 'salary': '30000',\n",
       " 'specialization': 'computer science'}"
      ]
     },
     "execution_count": 21,
     "metadata": {},
     "output_type": "execute_result"
    }
   ],
   "source": [
    "doctor[\"specialization\"] = 'computer science'\n",
    "doctor"
   ]
  },
  {
   "cell_type": "code",
   "execution_count": 22,
   "metadata": {},
   "outputs": [
    {
     "name": "stdout",
     "output_type": "stream",
     "text": [
      "name Daniyal Shehzad\n",
      "qualification PHD\n",
      "salary 30000\n",
      "specialization computer science\n"
     ]
    }
   ],
   "source": [
    "for i,j in doctor.items():\n",
    "    print(i, j)\n",
    "#this returns a tupple"
   ]
  },
  {
   "cell_type": "code",
   "execution_count": 17,
   "metadata": {},
   "outputs": [
    {
     "name": "stdout",
     "output_type": "stream",
     "text": [
      "input the sentencehello world\n",
      "{'h': 1, 'e': 1, 'l': 3, 'o': 2, ' ': 1, 'w': 1, 'r': 1, 'd': 1}\n"
     ]
    }
   ],
   "source": [
    "#check which letters are in the sentence and how many times a letter is repeated in a sentence\n",
    "\n",
    "#to get an empmty dictionary\n",
    "char_count = {}\n",
    "\n",
    "\n",
    "word = input (\"input the sentence\")\n",
    "\n",
    "for i in word:\n",
    "    if i in char_count.keys():\n",
    "        char_count[i] += 1\n",
    "    else:\n",
    "        char_count[i] = 1\n",
    "        \n",
    "print(char_count)"
   ]
  },
  {
   "cell_type": "code",
   "execution_count": 19,
   "metadata": {},
   "outputs": [
    {
     "name": "stdout",
     "output_type": "stream",
     "text": [
      "input the sentencemy name is daniyal\n",
      "{'my': 1, 'name': 1, 'is': 1, 'daniyal': 1}\n"
     ]
    }
   ],
   "source": [
    "#check which letters are in the sentence and how many times a word is repeated in a sentence\n",
    "\n",
    "\n",
    "word_count = {}\n",
    "\n",
    "word = input (\"input the sentence\")\n",
    "\n",
    "word = word.split(\" \")\n",
    "\n",
    "for i in word:\n",
    "    if i in word_count.keys():\n",
    "        word_count[i] += 1\n",
    "    else:\n",
    "        word_count[i] = 1\n",
    "        \n",
    "print(word_count)"
   ]
  },
  {
   "cell_type": "code",
   "execution_count": 23,
   "metadata": {},
   "outputs": [],
   "source": [
    "#for multiple doctors\n",
    "doctors = [{\"name\" : \"zubair\", \"salary\":\"60000\"},{\"name\" : \"daniyal\", \"salary\":\"30000\"}]"
   ]
  },
  {
   "cell_type": "code",
   "execution_count": 24,
   "metadata": {},
   "outputs": [
    {
     "data": {
      "text/plain": [
       "{'name': 'zubair', 'salary': '60000'}"
      ]
     },
     "execution_count": 24,
     "metadata": {},
     "output_type": "execute_result"
    }
   ],
   "source": [
    "doctors[0]"
   ]
  },
  {
   "cell_type": "code",
   "execution_count": 28,
   "metadata": {},
   "outputs": [
    {
     "data": {
      "text/plain": [
       "'zubair'"
      ]
     },
     "execution_count": 28,
     "metadata": {},
     "output_type": "execute_result"
    }
   ],
   "source": [
    "doctors[0][\"name\"]"
   ]
  },
  {
   "cell_type": "code",
   "execution_count": 29,
   "metadata": {},
   "outputs": [
    {
     "data": {
      "text/plain": [
       "[{'salary': '60000'}, {'name': 'daniyal', 'salary': '30000'}]"
      ]
     },
     "execution_count": 29,
     "metadata": {},
     "output_type": "execute_result"
    }
   ],
   "source": [
    "#entry in dictionary can be removed\n",
    "del doctors[0][\"name\"]\n",
    "doctors"
   ]
  },
  {
   "cell_type": "code",
   "execution_count": null,
   "metadata": {},
   "outputs": [],
   "source": [
    "#dictionary of a list(from slides)\n",
    "customer_29786{\"name\" : \"zubair\", \"salary\":\"60000\", \"discount\"}\n"
   ]
  },
  {
   "cell_type": "code",
   "execution_count": null,
   "metadata": {},
   "outputs": [],
   "source": [
    "#dictionary within dictionary (from slides)\n",
    "customer['johnog']\n",
    "#or\n",
    "customer['johnog'][lastname]"
   ]
  }
 ],
 "metadata": {
  "kernelspec": {
   "display_name": "Python 3",
   "language": "python",
   "name": "python3"
  },
  "language_info": {
   "codemirror_mode": {
    "name": "ipython",
    "version": 3
   },
   "file_extension": ".py",
   "mimetype": "text/x-python",
   "name": "python",
   "nbconvert_exporter": "python",
   "pygments_lexer": "ipython3",
   "version": "3.7.3"
  }
 },
 "nbformat": 4,
 "nbformat_minor": 2
}
