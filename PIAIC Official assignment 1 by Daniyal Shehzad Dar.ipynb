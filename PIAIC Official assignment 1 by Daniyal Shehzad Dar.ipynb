{
 "cells": [
  {
   "cell_type": "markdown",
   "metadata": {},
   "source": [
    "Name:Daniyal Shehzad Dar\n",
    "\n",
    "Roll No:AIC023072\n",
    "\n",
    "Instructor:Dr.Noman Islam\n",
    "\n",
    "Campus:Saylani Head Office    \n",
    "\n",
    "Timing:Sunday (9 to 12)"
   ]
  },
  {
   "cell_type": "markdown",
   "metadata": {},
   "source": [
    "## 1. Calculate Area of a Circle"
   ]
  },
  {
   "cell_type": "code",
   "execution_count": null,
   "metadata": {},
   "outputs": [],
   "source": [
    "pi = 22/7\n",
    "radius = float(input(\"Enter the radius of the intended circle = \"))\n",
    "\n",
    "area = pi * radius ** 2\n",
    "\n",
    "print('\\nThe area of the Circle with radius ', radius, \"is =\", area)"
   ]
  },
  {
   "cell_type": "markdown",
   "metadata": {},
   "source": [
    "  "
   ]
  },
  {
   "cell_type": "markdown",
   "metadata": {},
   "source": [
    "  "
   ]
  },
  {
   "cell_type": "markdown",
   "metadata": {},
   "source": [
    "  "
   ]
  },
  {
   "cell_type": "markdown",
   "metadata": {},
   "source": [
    "    "
   ]
  },
  {
   "cell_type": "markdown",
   "metadata": {},
   "source": [
    "## 2. Check Number either positive, negative or zero"
   ]
  },
  {
   "cell_type": "markdown",
   "metadata": {},
   "source": [
    "#### Zero Entry"
   ]
  },
  {
   "cell_type": "code",
   "execution_count": null,
   "metadata": {},
   "outputs": [],
   "source": [
    "number = int(input(\"Entre any intended number = \"))\n",
    "\n",
    "if number == 0:\n",
    "    print(\"\\nZero Entered\")\n",
    "\n",
    "elif number < 0:\n",
    "    print(\"\\nNegative Number Entered\")\n",
    "\n",
    "elif number > 0:\n",
    "    print(\"\\nPositive Number Entered\")\n",
    "\n",
    "else:\n",
    "    print(\"\\nInvalid input\")"
   ]
  },
  {
   "cell_type": "markdown",
   "metadata": {},
   "source": [
    "#### Negative Entry"
   ]
  },
  {
   "cell_type": "code",
   "execution_count": null,
   "metadata": {},
   "outputs": [],
   "source": [
    "number = int(input(\"Entre any intended number = \"))\n",
    "\n",
    "if number == 0:\n",
    "    print(\"\\nZero Entered\")\n",
    "\n",
    "elif number < 0:\n",
    "    print(\"\\nNegative Number Entered\")\n",
    "\n",
    "elif number > 0:\n",
    "    print(\"\\nPositive Number Entered\")\n",
    "\n",
    "else:\n",
    "    print(\"\\nInvalid input\")"
   ]
  },
  {
   "cell_type": "markdown",
   "metadata": {},
   "source": [
    "#### Positive Entry"
   ]
  },
  {
   "cell_type": "code",
   "execution_count": null,
   "metadata": {},
   "outputs": [],
   "source": [
    "number = int(input(\"Entre any intended number = \"))\n",
    "\n",
    "if number == 0:\n",
    "    print(\"\\nZero Entered\")\n",
    "\n",
    "elif number < 0:\n",
    "    print(\"\\nNegative Number Entered\")\n",
    "\n",
    "elif number > 0:\n",
    "    print(\"\\nPositive Number Entered\")\n",
    "\n",
    "else:\n",
    "    print(\"\\nInvalid input\")"
   ]
  },
  {
   "cell_type": "markdown",
   "metadata": {},
   "source": [
    "  "
   ]
  },
  {
   "cell_type": "markdown",
   "metadata": {},
   "source": [
    "  "
   ]
  },
  {
   "cell_type": "markdown",
   "metadata": {},
   "source": [
    "  "
   ]
  },
  {
   "cell_type": "markdown",
   "metadata": {},
   "source": [
    "  "
   ]
  },
  {
   "cell_type": "markdown",
   "metadata": {},
   "source": [
    "## 3. Divisibility Check of two numbers"
   ]
  },
  {
   "cell_type": "markdown",
   "metadata": {},
   "source": [
    "#### Divisible input"
   ]
  },
  {
   "cell_type": "code",
   "execution_count": null,
   "metadata": {},
   "outputs": [],
   "source": [
    "numer = int(input(\"Enter numerator = \"))\n",
    "denom = int(input(\"Enter denominator = \"))\n",
    "\n",
    "division = numer % denom\n",
    "\n",
    "if(division == 0):\n",
    "    print(\"\\nNumber\" , numer , \"is completely divisible by\" , denom)\n",
    "\n",
    "elif(division != 0):\n",
    "    print(\"\\nNumber\" , numer , \"is not Completely divisible by \" , denom)\n",
    "\n",
    "else:\n",
    "    print(\"\\nInvalid input\")"
   ]
  },
  {
   "cell_type": "markdown",
   "metadata": {},
   "source": [
    "#### Not Divisible input"
   ]
  },
  {
   "cell_type": "code",
   "execution_count": null,
   "metadata": {},
   "outputs": [],
   "source": [
    "numer = int(input(\"Enter numerator = \"))\n",
    "denom = int(input(\"Enter denominator = \"))\n",
    "\n",
    "division = numer % denom\n",
    "\n",
    "if(division == 0):\n",
    "    print(\"\\nNumber\" , numer , \"is completely divisible by\" , denom)\n",
    "\n",
    "elif(division != 0):\n",
    "    print(\"\\nNumber\" , numer , \"is not Completely divisible by \" , denom)\n",
    "\n",
    "else:\n",
    "    print(\"\\nInvalid input\")"
   ]
  },
  {
   "cell_type": "markdown",
   "metadata": {},
   "source": [
    "  "
   ]
  },
  {
   "cell_type": "markdown",
   "metadata": {},
   "source": [
    " "
   ]
  },
  {
   "cell_type": "markdown",
   "metadata": {},
   "source": [
    " "
   ]
  },
  {
   "cell_type": "markdown",
   "metadata": {},
   "source": [
    " "
   ]
  },
  {
   "cell_type": "markdown",
   "metadata": {},
   "source": [
    "## 4. Calculate Volume of a sphere"
   ]
  },
  {
   "cell_type": "markdown",
   "metadata": {},
   "source": [
    "##### Write a Python program to get the volume of a sphere, please take the radius as input from user"
   ]
  },
  {
   "cell_type": "code",
   "execution_count": null,
   "metadata": {},
   "outputs": [],
   "source": [
    "pi = 22/7\n",
    "\n",
    "radius = float(input(\"Enter the radius of the sphere = \"))\n",
    "\n",
    "volume = 4/3 *pi * radius**3\n",
    "\n",
    "print(\"\\nThe volume of the sphere with radius\", radius , \"is = \" ,  volume)"
   ]
  },
  {
   "cell_type": "markdown",
   "metadata": {},
   "source": [
    " "
   ]
  },
  {
   "cell_type": "markdown",
   "metadata": {},
   "source": [
    " "
   ]
  },
  {
   "cell_type": "markdown",
   "metadata": {},
   "source": [
    " "
   ]
  },
  {
   "cell_type": "markdown",
   "metadata": {},
   "source": [
    " "
   ]
  },
  {
   "cell_type": "markdown",
   "metadata": {},
   "source": [
    "## 5. Copy string n times\n",
    "#### Write a Python program to get a string which is n (non-negative integer) copies of a given string."
   ]
  },
  {
   "cell_type": "code",
   "execution_count": null,
   "metadata": {},
   "outputs": [],
   "source": [
    "string = input('Enter string = ')\n",
    "\n",
    "copies = int (input(\"How many copies of String do you need = \"))\n",
    "\n",
    "if copies > 0:\n",
    "    result = string * copies\n",
    "    print(\"\\n\" , copies , \" Copies of \" , string , \" are = \" , result)\n",
    "    \n",
    "else:\n",
    "    print(\"\\ninvalid input\")\n",
    "\n",
    "\n"
   ]
  },
  {
   "cell_type": "code",
   "execution_count": null,
   "metadata": {},
   "outputs": [],
   "source": [
    "string = input('Enter string = ')\n",
    "\n",
    "copies = int (input(\"How many copies of String do you need = \"))\n",
    "\n",
    "if copies > 0:\n",
    "    result = string * copies\n",
    "    print(\"\\n\" , copies , \" Copies of \" , string , \" are = \" , result)\n",
    "    \n",
    "else:\n",
    "    print(\"\\ninvalid input\")"
   ]
  },
  {
   "cell_type": "markdown",
   "metadata": {},
   "source": [
    " "
   ]
  },
  {
   "cell_type": "markdown",
   "metadata": {},
   "source": [
    " "
   ]
  },
  {
   "cell_type": "markdown",
   "metadata": {},
   "source": [
    " "
   ]
  },
  {
   "cell_type": "markdown",
   "metadata": {},
   "source": [
    " "
   ]
  },
  {
   "cell_type": "markdown",
   "metadata": {},
   "source": [
    "## 6. Check if number is Even or Odd\n",
    "### Write a Python program to find whether a given number (accept from the user) is even or odd, print out an appropriate message to the user"
   ]
  },
  {
   "cell_type": "markdown",
   "metadata": {},
   "source": [
    "#### Odd number"
   ]
  },
  {
   "cell_type": "code",
   "execution_count": null,
   "metadata": {},
   "outputs": [],
   "source": [
    "number = int(input(\"Enter number = \"))\n",
    "\n",
    "if number % 2 == 0:\n",
    "        print(number , \" = is Even\")\n",
    "        \n",
    "else:\n",
    "        print(\"\\n\" , number , \" = is Odd\")"
   ]
  },
  {
   "cell_type": "markdown",
   "metadata": {},
   "source": [
    "#### Even number"
   ]
  },
  {
   "cell_type": "code",
   "execution_count": null,
   "metadata": {},
   "outputs": [],
   "source": [
    "number = int(input(\"Enter number = \"))\n",
    "\n",
    "if number % 2 == 0:\n",
    "        print(number , \" = is Even\")\n",
    "        \n",
    "else:\n",
    "        print(\"\\n\" , number , \" = is Odd\")"
   ]
  },
  {
   "cell_type": "markdown",
   "metadata": {},
   "source": [
    " "
   ]
  },
  {
   "cell_type": "markdown",
   "metadata": {},
   "source": [
    " "
   ]
  },
  {
   "cell_type": "markdown",
   "metadata": {},
   "source": [
    " "
   ]
  },
  {
   "cell_type": "markdown",
   "metadata": {},
   "source": [
    " "
   ]
  },
  {
   "cell_type": "markdown",
   "metadata": {},
   "source": [
    "## 7. Vowel Tester\n",
    "### Write a Python program to test whether a passed letter is a vowel or not"
   ]
  },
  {
   "cell_type": "markdown",
   "metadata": {},
   "source": [
    "#### Capital Vowel"
   ]
  },
  {
   "cell_type": "code",
   "execution_count": null,
   "metadata": {},
   "outputs": [],
   "source": [
    "character = input(\"Enter a character = \")\n",
    "\n",
    "if (character == \"a\" or character == \"e\" or character == \"i\" or character == \"o\" or character == \"u\" \n",
    "    or character == \"A\" or character == \"E\" or character == \"I\" or character == \"O\" or character == \"U\"):\n",
    "        print(\"\\nLetter\" , character , \"is a vowel\")\n",
    "\n",
    "else:\n",
    "    print(\"\\nLetter\" , character,  \"is not a vowel\")"
   ]
  },
  {
   "cell_type": "markdown",
   "metadata": {},
   "source": [
    "#### Small Vowel"
   ]
  },
  {
   "cell_type": "code",
   "execution_count": null,
   "metadata": {},
   "outputs": [],
   "source": [
    "character = input(\"Enter a character = \")\n",
    "\n",
    "if (character == \"a\" or character == \"e\" or character == \"i\" or character == \"o\" or character == \"u\" \n",
    "    or character == \"A\" or character == \"E\" or character == \"I\" or character == \"O\" or character == \"U\"):\n",
    "        print(\"\\nLetter\" , character , \"is a vowel\")\n",
    "\n",
    "else:\n",
    "    print(\"\\nLetter\" , character,  \"is not a vowel\")"
   ]
  },
  {
   "cell_type": "markdown",
   "metadata": {},
   "source": [
    "#### Consonant"
   ]
  },
  {
   "cell_type": "code",
   "execution_count": null,
   "metadata": {},
   "outputs": [],
   "source": [
    "character = input(\"Enter a character = \")\n",
    "\n",
    "if (character == \"a\" or character == \"e\" or character == \"i\" or character == \"o\" or character == \"u\" \n",
    "    or character == \"A\" or character == \"E\" or character == \"I\" or character == \"O\" or character == \"U\"):\n",
    "        print(\"\\nLetter\" , character , \"is a vowel\")\n",
    "\n",
    "else:\n",
    "    print(\"\\nLetter\" , character,  \"is not a vowel\")"
   ]
  },
  {
   "cell_type": "markdown",
   "metadata": {},
   "source": [
    " "
   ]
  },
  {
   "cell_type": "markdown",
   "metadata": {},
   "source": [
    " "
   ]
  },
  {
   "cell_type": "markdown",
   "metadata": {},
   "source": [
    " "
   ]
  },
  {
   "cell_type": "markdown",
   "metadata": {},
   "source": [
    " "
   ]
  },
  {
   "cell_type": "markdown",
   "metadata": {},
   "source": [
    "## 8. Triangle area\n",
    "### Write a Python program that will accept the base and height of a triangle and compute the area\n",
    "###### Reference:\n",
    "https://www.mathgoodies.com/lessons/vol1/area_triangle"
   ]
  },
  {
   "cell_type": "markdown",
   "metadata": {},
   "source": [
    "#### Area of a Triangle"
   ]
  },
  {
   "cell_type": "code",
   "execution_count": null,
   "metadata": {},
   "outputs": [],
   "source": [
    "base = float (input (\"Enter the base value of the triangle = \"))\n",
    "height = float (input (\"Enter the height value of the triangle = \"))\n",
    "\n",
    "area = (base*height)/2\n",
    "\n",
    "print(\"\\nThe area of the triangle is = \", area)"
   ]
  },
  {
   "cell_type": "markdown",
   "metadata": {},
   "source": [
    " \n"
   ]
  },
  {
   "cell_type": "markdown",
   "metadata": {},
   "source": [
    " "
   ]
  },
  {
   "cell_type": "markdown",
   "metadata": {},
   "source": [
    " "
   ]
  },
  {
   "cell_type": "markdown",
   "metadata": {},
   "source": [
    " "
   ]
  },
  {
   "cell_type": "markdown",
   "metadata": {},
   "source": [
    "## 9. Calculate Interest\n",
    "### Write a Python program to compute the future value of a specified principal amount, rate of interest, and a number of years"
   ]
  },
  {
   "cell_type": "code",
   "execution_count": 4,
   "metadata": {},
   "outputs": [
    {
     "name": "stdout",
     "output_type": "stream",
     "text": [
      "Please enter the principal amount = 10000\n",
      "Please enter the rate of interest in % = 0.1\n",
      "Enter the number of years for investment = 5\n",
      "\n",
      "After 5.0  years your principal amount 10000.0  over an interest rate of 0.1  will be =  16105.100000000006\n"
     ]
    }
   ],
   "source": [
    "principal_amount = float (input (\"Please enter the principal amount = \"))\n",
    "interest_rate = float (input (\"Please enter the rate of interest in % = \"))\n",
    "years = float (input (\"Enter the number of years for investment = \"))\n",
    "\n",
    "final_amount = principal_amount * (1 + interest_rate) ** years\n",
    "\n",
    "print(\"\\nAfter\" , years , \" years your principal amount\", principal_amount, \" over an interest rate of\" , interest_rate, \" will be = \", final_amount)"
   ]
  },
  {
   "cell_type": "markdown",
   "metadata": {},
   "source": [
    " "
   ]
  },
  {
   "cell_type": "markdown",
   "metadata": {},
   "source": [
    " "
   ]
  },
  {
   "cell_type": "markdown",
   "metadata": {},
   "source": [
    " "
   ]
  },
  {
   "cell_type": "markdown",
   "metadata": {},
   "source": [
    " "
   ]
  },
  {
   "cell_type": "markdown",
   "metadata": {},
   "source": [
    "## 10. Euclidean distance\n",
    "### write a Python program to compute the distance between the points (x1, y1) and (x2, y2)."
   ]
  },
  {
   "cell_type": "code",
   "execution_count": 28,
   "metadata": {},
   "outputs": [
    {
     "name": "stdout",
     "output_type": "stream",
     "text": [
      "Enter Co-ordinates for x1 = 2\n",
      "Enter Co-ordinates for x2 = 4\n",
      "Enter Co-ordinates for y1 = 4\n",
      "Enter Co-ordinates for y2 = 4\n",
      "\n",
      "Distance between points ( 2 , 4 ) and ( 4 , 4 ) is 2.0\n"
     ]
    }
   ],
   "source": [
    "x1 = int (input (\"Enter Co-ordinates for x1 = \") )\n",
    "x2 = int (input (\"Enter Co-ordinates for x2 = \") )\n",
    "y1 = int (input (\"Enter Co-ordinates for y1 = \") )\n",
    "y2 = int (input (\"Enter Co-ordinates for y2 = \") )\n",
    "\n",
    "formula = ( (x2-x1)**2 ) + ( (y2-y1)**2 )\n",
    "distance = (formula)**0.5\n",
    "\n",
    "print (\"\\nDistance between points (\", x1 , \",\" , x2 , \")\" , \"and (\" , y1 , \",\" , y2 , \") is\" , distance)"
   ]
  },
  {
   "cell_type": "markdown",
   "metadata": {},
   "source": [
    " "
   ]
  },
  {
   "cell_type": "markdown",
   "metadata": {},
   "source": [
    " "
   ]
  },
  {
   "cell_type": "markdown",
   "metadata": {},
   "source": [
    " "
   ]
  },
  {
   "cell_type": "markdown",
   "metadata": {},
   "source": [
    " "
   ]
  },
  {
   "cell_type": "markdown",
   "metadata": {},
   "source": [
    "## 11. Feet to Centimeter Converter\n",
    "### Write a Python program to convert height in feet to centimetres."
   ]
  },
  {
   "cell_type": "code",
   "execution_count": 31,
   "metadata": {},
   "outputs": [
    {
     "name": "stdout",
     "output_type": "stream",
     "text": [
      "Enter Height in Feet = 3\n",
      "\n",
      "There are 91.44 cm in  3.0 ft\n"
     ]
    }
   ],
   "source": [
    "feet = float ( input (\"Enter Height in Feet = \") )\n",
    "calc = feet * 30.48\n",
    "\n",
    "print(\"\\nThere are\" , calc , \"cm in \" , feet , \"ft\")"
   ]
  },
  {
   "cell_type": "markdown",
   "metadata": {},
   "source": [
    " "
   ]
  },
  {
   "cell_type": "markdown",
   "metadata": {},
   "source": [
    " "
   ]
  },
  {
   "cell_type": "markdown",
   "metadata": {},
   "source": [
    " "
   ]
  },
  {
   "cell_type": "markdown",
   "metadata": {},
   "source": [
    " "
   ]
  },
  {
   "cell_type": "markdown",
   "metadata": {},
   "source": [
    "## 12. BMI Calculator\n",
    "### Write a Python program to calculate body mass index"
   ]
  },
  {
   "cell_type": "code",
   "execution_count": 33,
   "metadata": {},
   "outputs": [
    {
     "name": "stdout",
     "output_type": "stream",
     "text": [
      "Enter height in cm = 180\n",
      "Enter weight in kg = 75\n",
      "\n",
      "Your BMI is:  23.148148148148145\n"
     ]
    }
   ],
   "source": [
    "height_in_cm = float (input ( \"Enter height in cm = \") )\n",
    "weight = float (input (\"Enter weight in kg = \") )\n",
    "\n",
    "height_in_m = height_in_cm / 100\n",
    "\n",
    "calc = weight/height_in_m**2\n",
    "\n",
    "print(\"\\nYour BMI is: \", calc)"
   ]
  },
  {
   "cell_type": "markdown",
   "metadata": {},
   "source": [
    " "
   ]
  },
  {
   "cell_type": "markdown",
   "metadata": {},
   "source": [
    " "
   ]
  },
  {
   "cell_type": "markdown",
   "metadata": {},
   "source": [
    " "
   ]
  },
  {
   "cell_type": "markdown",
   "metadata": {},
   "source": [
    " "
   ]
  },
  {
   "cell_type": "markdown",
   "metadata": {},
   "source": [
    "## 13. Sum of n Positive Integers\n",
    "### Write a python program to sum of the first n positive integers"
   ]
  },
  {
   "cell_type": "code",
   "execution_count": 37,
   "metadata": {},
   "outputs": [
    {
     "name": "stdout",
     "output_type": "stream",
     "text": [
      "Enter the value of n = 6\n",
      "\n",
      "sum of n positive integers till 5 is 21.0\n"
     ]
    }
   ],
   "source": [
    "num = int (input (\"Enter the value of n = \") )\n",
    "\n",
    "summ = (num * (num + 1)) /2\n",
    "\n",
    "print(\"\\nsum of n positive integers till\" , n , \"is\", summ)"
   ]
  },
  {
   "cell_type": "markdown",
   "metadata": {},
   "source": [
    " "
   ]
  },
  {
   "cell_type": "markdown",
   "metadata": {},
   "source": [
    " "
   ]
  },
  {
   "cell_type": "markdown",
   "metadata": {},
   "source": [
    " "
   ]
  },
  {
   "cell_type": "markdown",
   "metadata": {},
   "source": [
    " "
   ]
  },
  {
   "cell_type": "markdown",
   "metadata": {},
   "source": [
    "## 14. Digits Sum of a Number\n",
    "### Write a Python program to calculate the sum of the digits in an integer"
   ]
  },
  {
   "cell_type": "code",
   "execution_count": 45,
   "metadata": {},
   "outputs": [
    {
     "name": "stdout",
     "output_type": "stream",
     "text": [
      "enter a number = 35\n",
      "sum of 3 + 5  is =  8\n"
     ]
    }
   ],
   "source": [
    "num = int(input (\"enter a number = \"))\n",
    "\n",
    "n1 = num // 1000\n",
    "\n",
    "n2 = (num - n1*1000)//100\n",
    "\n",
    "n3 = (num - n1*1000 - n2*100)//10\n",
    "\n",
    "n4 = num - n1*1000 - n2*100 - n3*10\n",
    "\n",
    "sum = n1+n2+n3+n4\n",
    "\n",
    "if n1 > 0 and n2 > 0:\n",
    "    print(\"sum of\" , str(n1) ,\"+\", str(n2),\"+\", str(n3), \"+\", str(n4), \" is = \", sum)\n",
    "else:\n",
    "    print(\"sum of\" , str(n3), \"+\", str(n4), \" is = \", sum)"
   ]
  },
  {
   "cell_type": "code",
   "execution_count": 46,
   "metadata": {},
   "outputs": [
    {
     "name": "stdout",
     "output_type": "stream",
     "text": [
      "enter a number = 1234\n",
      "sum of 1 + 2 + 3 + 4  is =  10\n"
     ]
    }
   ],
   "source": [
    "num = int(input (\"enter a number = \"))\n",
    "\n",
    "n1 = num // 1000\n",
    "\n",
    "n2 = (num - n1*1000)//100\n",
    "\n",
    "n3 = (num - n1*1000 - n2*100)//10\n",
    "\n",
    "n4 = num - n1*1000 - n2*100 - n3*10\n",
    "\n",
    "sum = n1+n2+n3+n4\n",
    "\n",
    "if n1 > 0 and n2 > 0:\n",
    "    print(\"sum of\" , str(n1) ,\"+\", str(n2),\"+\", str(n3), \"+\", str(n4), \" is = \", sum)\n",
    "else:\n",
    "    print(\"sum of\" , str(n3), \"+\", str(n4), \" is = \", sum)"
   ]
  },
  {
   "cell_type": "markdown",
   "metadata": {},
   "source": [
    " "
   ]
  },
  {
   "cell_type": "markdown",
   "metadata": {},
   "source": [
    " "
   ]
  },
  {
   "cell_type": "markdown",
   "metadata": {},
   "source": [
    " "
   ]
  },
  {
   "cell_type": "markdown",
   "metadata": {},
   "source": [
    " "
   ]
  }
 ],
 "metadata": {
  "kernelspec": {
   "display_name": "Python 3",
   "language": "python",
   "name": "python3"
  }
 },
 "nbformat": 4,
 "nbformat_minor": 2
}
